{
 "cells": [
  {
   "cell_type": "code",
   "execution_count": 1,
   "metadata": {
    "collapsed": true
   },
   "outputs": [
    {
     "name": "stdout",
     "output_type": "stream",
     "text": [
      "(50000, 32, 32, 3) (50000, 10)\n",
      "(10000, 32, 32, 3) (10000, 10)\n"
     ]
    }
   ],
   "source": [
    "import tensorflow as tf\n",
    "import numpy as np\n",
    "\n",
    "(x_train, y_train), (x_test, y_test) = tf.keras.datasets.cifar10.load_data()\n",
    "\n",
    "# train set / data\n",
    "x_train = x_train.astype('float32') / 255\n",
    "# train set / target\n",
    "y_train = tf.keras.utils.to_categorical(y_train , num_classes=10)\n",
    "\n",
    "# validation set / data\n",
    "x_test = x_test.astype('float32') / 255\n",
    "# validation set / target\n",
    "y_test = tf.keras.utils.to_categorical(y_test, num_classes=10)\n",
    "\n",
    "print(x_train.shape, y_train.shape)\n",
    "print(x_test.shape, y_test.shape)"
   ]
  },
  {
   "cell_type": "code",
   "execution_count": 2,
   "outputs": [
    {
     "name": "stdout",
     "output_type": "stream",
     "text": [
      "Metal device set to: Apple M1 Pro\n"
     ]
    },
    {
     "name": "stderr",
     "output_type": "stream",
     "text": [
      "2023-01-26 12:45:12.578499: I tensorflow/core/common_runtime/pluggable_device/pluggable_device_factory.cc:305] Could not identify NUMA node of platform GPU ID 0, defaulting to 0. Your kernel may not have been built with NUMA support.\n",
      "2023-01-26 12:45:12.578911: I tensorflow/core/common_runtime/pluggable_device/pluggable_device_factory.cc:271] Created TensorFlow device (/job:localhost/replica:0/task:0/device:GPU:0 with 0 MB memory) -> physical PluggableDevice (device: 0, name: METAL, pci bus id: <undefined>)\n"
     ]
    }
   ],
   "source": [
    "input = tf.keras.Input(shape=(32,32,3))\n",
    "efnet = tf.keras.applications.EfficientNetB0(weights='imagenet',\n",
    "                                             include_top = False,\n",
    "                                             input_tensor = input)\n",
    "# Now that we apply global max pooling.\n",
    "gap = tf.keras.layers.GlobalMaxPooling2D()(efnet.output)\n",
    "\n",
    "# Finally, we add a classification layer.\n",
    "output = tf.keras.layers.Dense(10, activation='softmax')(gap)\n",
    "\n",
    "# bind all\n",
    "func_model = tf.keras.Model(efnet.input, output)"
   ],
   "metadata": {
    "collapsed": false
   }
  },
  {
   "cell_type": "code",
   "execution_count": 3,
   "outputs": [
    {
     "name": "stdout",
     "output_type": "stream",
     "text": [
      "Epoch 1/15\n"
     ]
    },
    {
     "name": "stderr",
     "output_type": "stream",
     "text": [
      "2023-01-26 12:45:26.842582: W tensorflow/core/platform/profile_utils/cpu_utils.cc:128] Failed to get CPU frequency: 0 Hz\n",
      "2023-01-26 12:45:28.985300: I tensorflow/core/grappler/optimizers/custom_graph_optimizer_registry.cc:113] Plugin optimizer for device_type GPU is enabled.\n"
     ]
    },
    {
     "name": "stdout",
     "output_type": "stream",
     "text": [
      "391/391 - 46s - loss: 1.3125 - categorical_accuracy: 0.5428 - 46s/epoch - 116ms/step\n",
      "Epoch 2/15\n",
      "391/391 - 37s - loss: 0.8097 - categorical_accuracy: 0.7172 - 37s/epoch - 94ms/step\n",
      "Epoch 3/15\n",
      "391/391 - 37s - loss: 0.6380 - categorical_accuracy: 0.7776 - 37s/epoch - 94ms/step\n",
      "Epoch 4/15\n",
      "391/391 - 38s - loss: 0.5261 - categorical_accuracy: 0.8198 - 38s/epoch - 96ms/step\n",
      "Epoch 5/15\n",
      "391/391 - 39s - loss: 0.4529 - categorical_accuracy: 0.8411 - 39s/epoch - 99ms/step\n",
      "Epoch 6/15\n",
      "391/391 - 39s - loss: 0.3898 - categorical_accuracy: 0.8641 - 39s/epoch - 100ms/step\n",
      "Epoch 7/15\n",
      "391/391 - 38s - loss: 0.3296 - categorical_accuracy: 0.8852 - 38s/epoch - 96ms/step\n",
      "Epoch 8/15\n",
      "391/391 - 36s - loss: 0.2849 - categorical_accuracy: 0.8998 - 36s/epoch - 93ms/step\n",
      "Epoch 9/15\n",
      "391/391 - 36s - loss: 0.2482 - categorical_accuracy: 0.9128 - 36s/epoch - 93ms/step\n",
      "Epoch 10/15\n",
      "391/391 - 36s - loss: 0.2257 - categorical_accuracy: 0.9217 - 36s/epoch - 91ms/step\n",
      "Epoch 11/15\n",
      "391/391 - 36s - loss: 0.2015 - categorical_accuracy: 0.9291 - 36s/epoch - 92ms/step\n",
      "Epoch 12/15\n",
      "391/391 - 36s - loss: 0.1813 - categorical_accuracy: 0.9371 - 36s/epoch - 91ms/step\n",
      "Epoch 13/15\n",
      "391/391 - 36s - loss: 0.1678 - categorical_accuracy: 0.9430 - 36s/epoch - 92ms/step\n",
      "Epoch 14/15\n",
      "391/391 - 37s - loss: 0.1533 - categorical_accuracy: 0.9477 - 37s/epoch - 93ms/step\n",
      "Epoch 15/15\n",
      "391/391 - 36s - loss: 0.1403 - categorical_accuracy: 0.9528 - 36s/epoch - 92ms/step\n"
     ]
    },
    {
     "data": {
      "text/plain": "<keras.callbacks.History at 0x173428070>"
     },
     "execution_count": 3,
     "metadata": {},
     "output_type": "execute_result"
    }
   ],
   "source": [
    "func_model.compile(\n",
    "    loss      = tf.keras.losses.CategoricalCrossentropy(),\n",
    "    metrics   = tf.keras.metrics.CategoricalAccuracy(),\n",
    "    optimizer = tf.keras.optimizers.Adam())\n",
    "# fit\n",
    "func_model.fit(x_train, y_train, batch_size=128, epochs=15, verbose = 2)"
   ],
   "metadata": {
    "collapsed": false
   }
  },
  {
   "cell_type": "code",
   "execution_count": 4,
   "outputs": [],
   "source": [
    "from tensorflow.keras.models import Model\n",
    "import tensorflow as tf\n",
    "import numpy as np\n",
    "import cv2\n",
    "\n",
    "class GradCAM:\n",
    "    def __init__(self, model, classIdx, layerName=None):\n",
    "        # store the model, the class index used to measure the class\n",
    "        # activation map, and the layer to be used when visualizing\n",
    "        # the class activation map\n",
    "        self.model = model\n",
    "        self.classIdx = classIdx\n",
    "        self.layerName = layerName\n",
    "        # if the layer name is None, attempt to automatically find\n",
    "        # the target output layer\n",
    "        if self.layerName is None:\n",
    "            self.layerName = self.find_target_layer()\n",
    "\n",
    "    def find_target_layer(self):\n",
    "        # attempt to find the final convolutional layer in the network\n",
    "        # by looping over the layers of the network in reverse order\n",
    "        for layer in reversed(self.model.layers):\n",
    "            # check to see if the layer has a 4D output\n",
    "            if len(layer.output_shape) == 4:\n",
    "                return layer.name\n",
    "        # otherwise, we could not find a 4D layer so the GradCAM\n",
    "        # algorithm cannot be applied\n",
    "        raise ValueError(\"Could not find 4D layer. Cannot apply GradCAM.\")\n",
    "\n",
    "\n",
    "    def compute_heatmap(self, image, eps=1e-8):\n",
    "        # construct our gradient model by supplying (1) the inputs\n",
    "        # to our pre-trained model, (2) the output of the (presumably)\n",
    "        # final 4D layer in the network, and (3) the output of the\n",
    "        # softmax activations from the model\n",
    "        gradModel = Model(\n",
    "            inputs=[self.model.inputs],\n",
    "            outputs=[self.model.get_layer(self.layerName).output, self.model.output])\n",
    "\n",
    "        # record operations for automatic differentiation\n",
    "        with tf.GradientTape() as tape:\n",
    "            # cast the image tensor to a float-32 data type, pass the\n",
    "            # image through the gradient model, and grab the loss\n",
    "            # associated with the specific class index\n",
    "            inputs = tf.cast(image, tf.float32)\n",
    "            (convOutputs, predictions) = gradModel(inputs)\n",
    "\n",
    "            loss = predictions[:, tf.argmax(predictions[0])]\n",
    "\n",
    "        # use automatic differentiation to compute the gradients\n",
    "        grads = tape.gradient(loss, convOutputs)\n",
    "\n",
    "        # compute the guided gradients\n",
    "        castConvOutputs = tf.cast(convOutputs > 0, \"float32\")\n",
    "        castGrads = tf.cast(grads > 0, \"float32\")\n",
    "        guidedGrads = castConvOutputs * castGrads * grads\n",
    "        # the convolution and guided gradients have a batch dimension\n",
    "        # (which we don't need) so let's grab the volume itself and\n",
    "        # discard the batch\n",
    "        convOutputs = convOutputs[0]\n",
    "        guidedGrads = guidedGrads[0]\n",
    "\n",
    "        # compute the average of the gradient values, and using them\n",
    "        # as weights, compute the ponderation of the filters with\n",
    "        # respect to the weights\n",
    "        weights = tf.reduce_mean(guidedGrads, axis=(0, 1))\n",
    "        cam = tf.reduce_sum(tf.multiply(weights, convOutputs), axis=-1)\n",
    "\n",
    "        # grab the spatial dimensions of the input image and resize\n",
    "        # the output class activation map to match the input image\n",
    "        # dimensions\n",
    "        (w, h) = (image.shape[2], image.shape[1])\n",
    "        heatmap = cv2.resize(cam.numpy(), (w, h))\n",
    "        # normalize the heatmap such that all values lie in the range\n",
    "        # [0, 1], scale the resulting values to the range [0, 255],\n",
    "        # and then convert to an unsigned 8-bit integer\n",
    "        numer = heatmap - np.min(heatmap)\n",
    "        denom = (heatmap.max() - heatmap.min()) + eps\n",
    "        heatmap = numer / denom\n",
    "        heatmap = (heatmap * 255).astype(\"uint8\")\n",
    "        # return the resulting heatmap to the calling function\n",
    "        return heatmap\n",
    "\n",
    "    def overlay_heatmap(self, heatmap, image, alpha=0.5,\n",
    "                        colormap=cv2.COLORMAP_VIRIDIS):\n",
    "        # apply the supplied color map to the heatmap and then\n",
    "        # overlay the heatmap on the input image\n",
    "        heatmap = cv2.applyColorMap(heatmap, colormap)\n",
    "        output = cv2.addWeighted(image, alpha, heatmap, 1 - alpha, 0)\n",
    "        # return a 2-tuple of the color mapped heatmap and the output,\n",
    "        # overlaid image\n",
    "        return (heatmap, output)\n",
    "\n"
   ],
   "metadata": {
    "collapsed": false
   }
  },
  {
   "cell_type": "code",
   "execution_count": 5,
   "outputs": [
    {
     "name": "stdout",
     "output_type": "stream",
     "text": [
      "input_1\n",
      "rescaling\n",
      "normalization\n",
      "tf.math.truediv\n",
      "stem_conv_pad\n",
      "stem_conv\n",
      "stem_bn\n",
      "stem_activation\n",
      "block1a_dwconv\n",
      "block1a_bn\n",
      "block1a_activation\n",
      "block1a_se_squeeze\n",
      "block1a_se_reshape\n",
      "block1a_se_reduce\n",
      "block1a_se_expand\n",
      "block1a_se_excite\n",
      "block1a_project_conv\n",
      "block1a_project_bn\n",
      "block2a_expand_conv\n",
      "block2a_expand_bn\n",
      "block2a_expand_activation\n",
      "block2a_dwconv_pad\n",
      "block2a_dwconv\n",
      "block2a_bn\n",
      "block2a_activation\n",
      "block2a_se_squeeze\n",
      "block2a_se_reshape\n",
      "block2a_se_reduce\n",
      "block2a_se_expand\n",
      "block2a_se_excite\n",
      "block2a_project_conv\n",
      "block2a_project_bn\n",
      "block2b_expand_conv\n",
      "block2b_expand_bn\n",
      "block2b_expand_activation\n",
      "block2b_dwconv\n",
      "block2b_bn\n",
      "block2b_activation\n",
      "block2b_se_squeeze\n",
      "block2b_se_reshape\n",
      "block2b_se_reduce\n",
      "block2b_se_expand\n",
      "block2b_se_excite\n",
      "block2b_project_conv\n",
      "block2b_project_bn\n",
      "block2b_drop\n",
      "block2b_add\n",
      "block3a_expand_conv\n",
      "block3a_expand_bn\n",
      "block3a_expand_activation\n",
      "block3a_dwconv_pad\n",
      "block3a_dwconv\n",
      "block3a_bn\n",
      "block3a_activation\n",
      "block3a_se_squeeze\n",
      "block3a_se_reshape\n",
      "block3a_se_reduce\n",
      "block3a_se_expand\n",
      "block3a_se_excite\n",
      "block3a_project_conv\n",
      "block3a_project_bn\n",
      "block3b_expand_conv\n",
      "block3b_expand_bn\n",
      "block3b_expand_activation\n",
      "block3b_dwconv\n",
      "block3b_bn\n",
      "block3b_activation\n",
      "block3b_se_squeeze\n",
      "block3b_se_reshape\n",
      "block3b_se_reduce\n",
      "block3b_se_expand\n",
      "block3b_se_excite\n",
      "block3b_project_conv\n",
      "block3b_project_bn\n",
      "block3b_drop\n",
      "block3b_add\n",
      "block4a_expand_conv\n",
      "block4a_expand_bn\n",
      "block4a_expand_activation\n",
      "block4a_dwconv_pad\n",
      "block4a_dwconv\n",
      "block4a_bn\n",
      "block4a_activation\n",
      "block4a_se_squeeze\n",
      "block4a_se_reshape\n",
      "block4a_se_reduce\n",
      "block4a_se_expand\n",
      "block4a_se_excite\n",
      "block4a_project_conv\n",
      "block4a_project_bn\n",
      "block4b_expand_conv\n",
      "block4b_expand_bn\n",
      "block4b_expand_activation\n",
      "block4b_dwconv\n",
      "block4b_bn\n",
      "block4b_activation\n",
      "block4b_se_squeeze\n",
      "block4b_se_reshape\n",
      "block4b_se_reduce\n",
      "block4b_se_expand\n",
      "block4b_se_excite\n",
      "block4b_project_conv\n",
      "block4b_project_bn\n",
      "block4b_drop\n",
      "block4b_add\n",
      "block4c_expand_conv\n",
      "block4c_expand_bn\n",
      "block4c_expand_activation\n",
      "block4c_dwconv\n",
      "block4c_bn\n",
      "block4c_activation\n",
      "block4c_se_squeeze\n",
      "block4c_se_reshape\n",
      "block4c_se_reduce\n",
      "block4c_se_expand\n",
      "block4c_se_excite\n",
      "block4c_project_conv\n",
      "block4c_project_bn\n",
      "block4c_drop\n",
      "block4c_add\n",
      "block5a_expand_conv\n",
      "block5a_expand_bn\n",
      "block5a_expand_activation\n",
      "block5a_dwconv\n",
      "block5a_bn\n",
      "block5a_activation\n",
      "block5a_se_squeeze\n",
      "block5a_se_reshape\n",
      "block5a_se_reduce\n",
      "block5a_se_expand\n",
      "block5a_se_excite\n",
      "block5a_project_conv\n",
      "block5a_project_bn\n",
      "block5b_expand_conv\n",
      "block5b_expand_bn\n",
      "block5b_expand_activation\n",
      "block5b_dwconv\n",
      "block5b_bn\n",
      "block5b_activation\n",
      "block5b_se_squeeze\n",
      "block5b_se_reshape\n",
      "block5b_se_reduce\n",
      "block5b_se_expand\n",
      "block5b_se_excite\n",
      "block5b_project_conv\n",
      "block5b_project_bn\n",
      "block5b_drop\n",
      "block5b_add\n",
      "block5c_expand_conv\n",
      "block5c_expand_bn\n",
      "block5c_expand_activation\n",
      "block5c_dwconv\n",
      "block5c_bn\n",
      "block5c_activation\n",
      "block5c_se_squeeze\n",
      "block5c_se_reshape\n",
      "block5c_se_reduce\n",
      "block5c_se_expand\n",
      "block5c_se_excite\n",
      "block5c_project_conv\n",
      "block5c_project_bn\n",
      "block5c_drop\n",
      "block5c_add\n",
      "block6a_expand_conv\n",
      "block6a_expand_bn\n",
      "block6a_expand_activation\n",
      "block6a_dwconv_pad\n",
      "block6a_dwconv\n",
      "block6a_bn\n",
      "block6a_activation\n",
      "block6a_se_squeeze\n",
      "block6a_se_reshape\n",
      "block6a_se_reduce\n",
      "block6a_se_expand\n",
      "block6a_se_excite\n",
      "block6a_project_conv\n",
      "block6a_project_bn\n",
      "block6b_expand_conv\n",
      "block6b_expand_bn\n",
      "block6b_expand_activation\n",
      "block6b_dwconv\n",
      "block6b_bn\n",
      "block6b_activation\n",
      "block6b_se_squeeze\n",
      "block6b_se_reshape\n",
      "block6b_se_reduce\n",
      "block6b_se_expand\n",
      "block6b_se_excite\n",
      "block6b_project_conv\n",
      "block6b_project_bn\n",
      "block6b_drop\n",
      "block6b_add\n",
      "block6c_expand_conv\n",
      "block6c_expand_bn\n",
      "block6c_expand_activation\n",
      "block6c_dwconv\n",
      "block6c_bn\n",
      "block6c_activation\n",
      "block6c_se_squeeze\n",
      "block6c_se_reshape\n",
      "block6c_se_reduce\n",
      "block6c_se_expand\n",
      "block6c_se_excite\n",
      "block6c_project_conv\n",
      "block6c_project_bn\n",
      "block6c_drop\n",
      "block6c_add\n",
      "block6d_expand_conv\n",
      "block6d_expand_bn\n",
      "block6d_expand_activation\n",
      "block6d_dwconv\n",
      "block6d_bn\n",
      "block6d_activation\n",
      "block6d_se_squeeze\n",
      "block6d_se_reshape\n",
      "block6d_se_reduce\n",
      "block6d_se_expand\n",
      "block6d_se_excite\n",
      "block6d_project_conv\n",
      "block6d_project_bn\n",
      "block6d_drop\n",
      "block6d_add\n",
      "block7a_expand_conv\n",
      "block7a_expand_bn\n",
      "block7a_expand_activation\n",
      "block7a_dwconv\n",
      "block7a_bn\n",
      "block7a_activation\n",
      "block7a_se_squeeze\n",
      "block7a_se_reshape\n",
      "block7a_se_reduce\n",
      "block7a_se_expand\n",
      "block7a_se_excite\n",
      "block7a_project_conv\n",
      "block7a_project_bn\n",
      "top_conv\n",
      "top_bn\n",
      "top_activation\n",
      "global_max_pooling2d\n",
      "dense\n"
     ]
    }
   ],
   "source": [
    "for idx in range(len(func_model.layers)):\n",
    "    print(func_model.get_layer(index = idx).name)\n",
    "\n",
    "# we picked `block5c_project_con` layer"
   ],
   "metadata": {
    "collapsed": false
   }
  },
  {
   "cell_type": "code",
   "execution_count": 9,
   "outputs": [
    {
     "name": "stdout",
     "output_type": "stream",
     "text": [
      "1/1 [==============================] - 0s 30ms/step\n",
      "[[0.3989152  0.02327448 0.25274965 0.02814561 0.00817212 0.00574093\n",
      "  0.00732993 0.05092196 0.18538769 0.03936248]]\n"
     ]
    },
    {
     "data": {
      "text/plain": "<Figure size 640x480 with 1 Axes>",
      "image/png": "[encoded data removed]"
     },
     "metadata": {},
     "output_type": "display_data"
    }
   ],
   "source": [
    "from matplotlib import pyplot as plt\n",
    "image = cv2.imread('/Users/cabiria/Library/CloudStorage/OneDrive-SanroHealth/Desktop/sanrohealth/notebook/mnist/images/dog.jpg')\n",
    "image = cv2.resize(image, (32, 32))\n",
    "image = image.astype('float32') / 255\n",
    "plt.imshow(image)\n",
    "\n",
    "image = np.expand_dims(image, axis=0)\n",
    "\n",
    "preds = func_model.predict(image)\n",
    "print(preds)\n",
    "i = np.argmax(preds[0])"
   ],
   "metadata": {
    "collapsed": false
   }
  },
  {
   "cell_type": "code",
   "execution_count": null,
   "outputs": [],
   "source": [],
   "metadata": {
    "collapsed": false
   }
  },
  {
   "cell_type": "code",
   "execution_count": 45,
   "outputs": [
    {
     "name": "stdout",
     "output_type": "stream",
     "text": [
      "(32, 32) (32, 32, 3)\n"
     ]
    }
   ],
   "source": [
    "icam = GradCAM(func_model, i, 'block5c_project_conv')\n",
    "heatmap = icam.compute_heatmap(image)\n",
    "heatmap = cv2.resize(heatmap, (32, 32))\n",
    "\n",
    "image = cv2.imread('/Users/cabiria/Library/CloudStorage/OneDrive-SanroHealth/Desktop/sanrohealth/notebook/mnist/images/dog.jpg')\n",
    "image = cv2.resize(image, (32, 32))\n",
    "print(heatmap.shape, image.shape)\n",
    "(heatmap, output) = icam.overlay_heatmap(heatmap, image, alpha=0.5)"
   ],
   "metadata": {
    "collapsed": false
   }
  },
  {
   "cell_type": "code",
   "execution_count": 46,
   "outputs": [
    {
     "data": {
      "text/plain": "<matplotlib.image.AxesImage at 0x328d7fc40>"
     },
     "execution_count": 46,
     "metadata": {},
     "output_type": "execute_result"
    },
    {
     "data": {
      "text/plain": "<Figure size 640x480 with 3 Axes>",
      "image/png": "[encoded data removed]"
     },
     "metadata": {},
     "output_type": "display_data"
    }
   ],
   "source": [
    "from matplotlib import pyplot as plt\n",
    "fig, ax = plt.subplots(1, 3)\n",
    "\n",
    "ax[0].imshow(heatmap)\n",
    "ax[1].imshow(image)\n",
    "ax[2].imshow(output)"
   ],
   "metadata": {
    "collapsed": false
   }
  },
  {
   "cell_type": "code",
   "execution_count": null,
   "outputs": [],
   "source": [],
   "metadata": {
    "collapsed": false
   }
  }
 ],
 "metadata": {
  "kernelspec": {
   "display_name": "Python 3",
   "language": "python",
   "name": "python3"
  },
  "language_info": {
   "codemirror_mode": {
    "name": "ipython",
    "version": 2
   },
   "file_extension": ".py",
   "mimetype": "text/x-python",
   "name": "python",
   "nbconvert_exporter": "python",
   "pygments_lexer": "ipython2",
   "version": "2.7.6"
  }
 },
 "nbformat": 4,
 "nbformat_minor": 0
}
